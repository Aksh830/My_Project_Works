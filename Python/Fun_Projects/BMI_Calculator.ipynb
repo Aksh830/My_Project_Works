{
 "cells": [
  {
   "cell_type": "code",
   "execution_count": null,
   "id": "10a96052-b53e-449c-a584-62e148d4b081",
   "metadata": {},
   "outputs": [],
   "source": [
    "Name = input(\"Entre your name here: \")\n",
    "weight = float(input(\"Entre your weight in KG: \"))\n",
    "height = float(input(\"Entre your height in Meters: \"))\n",
    "BMI = weight / height**2\n",
    "print (\"Your BMI is\" , BMI)\n",
    "if BMI > 0:\n",
    "    if BMI <18.5:\n",
    "        print (Name, \", you are underweight\")\n",
    "    elif BMI <24.9:\n",
    "        print (Name, \", you are Normal Weight\")\n",
    "    elif BMI <29.9:\n",
    "        print (Name, \", you are Overweight\")\n",
    "    elif BMI <34.9:\n",
    "        print (Name, \", you are Obese\")\n",
    "    elif BMI <39.9:\n",
    "        print (Name, \", you are Severly Obese\")\n",
    "    else:\n",
    "        print (Name, \", you are Morbidly Obese\")\n",
    "else:\n",
    "    print(\"Entre Valid input\")"
   ]
  }
 ],
 "metadata": {
  "kernelspec": {
   "display_name": "Python [conda env:base] *",
   "language": "python",
   "name": "conda-base-py"
  },
  "language_info": {
   "codemirror_mode": {
    "name": "ipython",
    "version": 3
   },
   "file_extension": ".py",
   "mimetype": "text/x-python",
   "name": "python",
   "nbconvert_exporter": "python",
   "pygments_lexer": "ipython3",
   "version": "3.12.7"
  }
 },
 "nbformat": 4,
 "nbformat_minor": 5
}
